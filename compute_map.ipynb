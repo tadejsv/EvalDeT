{
 "cells": [
  {
   "cell_type": "code",
   "execution_count": 1,
   "metadata": {},
   "outputs": [],
   "source": [
    "import numpy as np\n",
    "from evaldet.det.coco import calculate_pr_curve, calculate_pr_curve_np\n",
    "from evaldet.dist import iou_dist\n",
    "\n",
    "import numba\n",
    "from numba import types\n",
    "\n",
    "from tqdm import tqdm"
   ]
  },
  {
   "cell_type": "code",
   "execution_count": 2,
   "metadata": {},
   "outputs": [
    {
     "name": "stderr",
     "output_type": "stream",
     "text": [
      "  0%|          | 0/10000 [00:00<?, ?it/s]/home/tadej/micromamba/envs/EvalDeT/lib/python3.10/site-packages/numba/typed/typeddict.py:33: NumbaTypeSafetyWarning: \u001b[1m\u001b[1m\u001b[1munsafe cast from UniTuple(int64 x 2) to UniTuple(int32 x 2). Precision may be lost.\u001b[0m\u001b[0m\u001b[0m\n",
      "  d[key] = value\n",
      "/home/tadej/micromamba/envs/EvalDeT/lib/python3.10/site-packages/numba/typed/typeddict.py:33: NumbaTypeSafetyWarning: \u001b[1m\u001b[1m\u001b[1munsafe cast from int64 to int32. Precision may be lost.\u001b[0m\u001b[0m\u001b[0m\n",
      "  d[key] = value\n",
      "100%|██████████| 10000/10000 [00:09<00:00, 1044.45it/s]\n"
     ]
    }
   ],
   "source": [
    "N_FRAMES = 10000\n",
    "N_P_FRAME = 100\n",
    "\n",
    "preds_bbox = np.random.rand(N_FRAMES * N_P_FRAME, 4).astype(np.float32)\n",
    "gts_bbox = np.random.rand(N_FRAMES * N_P_FRAME, 4).astype(np.float32)\n",
    "preds_conf = np.random.rand(N_FRAMES * N_P_FRAME).astype(np.float32)\n",
    "\n",
    "fp = numba.typed.Dict.empty(\n",
    "    key_type=numba.int32,\n",
    "    value_type=types.Tuple((types.int32, types.int32))\n",
    ")\n",
    "fg = numba.typed.Dict.empty(\n",
    "    key_type=numba.int32,\n",
    "    value_type=types.Tuple((types.int32, types.int32))\n",
    ")\n",
    "ious = numba.typed.Dict.empty(\n",
    "    key_type=numba.int32,\n",
    "    value_type=numba.float32[:, ::1]\n",
    ")\n",
    "\n",
    "ious_np = {}\n",
    "fp_np = {}\n",
    "fg_np = {}\n",
    "\n",
    "for f in tqdm(range(N_FRAMES)):\n",
    "    inds = (f * N_P_FRAME, (f+1) * N_P_FRAME)\n",
    "    fp[f] =inds\n",
    "    fg[f] = inds\n",
    "    ious[f] = 1 - iou_dist(preds_bbox[inds[0]:inds[1]], gts_bbox[inds[0]:inds[1]])\n",
    "\n",
    "    fp_np[f] =inds\n",
    "    fg_np[f] = inds\n",
    "    ious_np[f] = 1 - iou_dist(preds_bbox[inds[0]:inds[1]], gts_bbox[inds[0]:inds[1]])\n",
    "\n",
    "area_range = (0.5, 100)\n",
    "iou_threshold = 0.5"
   ]
  },
  {
   "cell_type": "code",
   "execution_count": 3,
   "metadata": {},
   "outputs": [
    {
     "data": {
      "text/plain": [
       "array([[0.0000000e+00, 4.9999997e-01, 3.3333331e-01, ..., 7.0667404e-01,\n",
       "        7.0666993e-01, 7.0666581e-01],\n",
       "       [0.0000000e+00, 6.5234976e-06, 6.5234976e-06, ..., 7.9088926e-01,\n",
       "        7.9088926e-01, 7.9088926e-01]], dtype=float32)"
      ]
     },
     "execution_count": 3,
     "metadata": {},
     "output_type": "execute_result"
    }
   ],
   "source": [
    "calculate_pr_curve(\n",
    "    preds_bbox, gts_bbox, ious, preds_conf, fp, fg, area_range, iou_threshold\n",
    ")"
   ]
  },
  {
   "cell_type": "code",
   "execution_count": 4,
   "metadata": {},
   "outputs": [
    {
     "name": "stdout",
     "output_type": "stream",
     "text": [
      "527 ms ± 23.8 ms per loop (mean ± std. dev. of 7 runs, 1 loop each)\n"
     ]
    }
   ],
   "source": [
    "%%timeit\n",
    "calculate_pr_curve(\n",
    "    preds_bbox, gts_bbox, ious, preds_conf, fp, fg, area_range, iou_threshold\n",
    ")"
   ]
  },
  {
   "cell_type": "code",
   "execution_count": 5,
   "metadata": {},
   "outputs": [
    {
     "data": {
      "text/plain": [
       "array([[0.0000000e+00, 5.0000000e-01, 3.3333334e-01, ..., 7.0667404e-01,\n",
       "        7.0666993e-01, 7.0666581e-01],\n",
       "       [0.0000000e+00, 6.5234976e-06, 6.5234976e-06, ..., 7.9088926e-01,\n",
       "        7.9088926e-01, 7.9088926e-01]], dtype=float32)"
      ]
     },
     "execution_count": 5,
     "metadata": {},
     "output_type": "execute_result"
    }
   ],
   "source": [
    "calculate_pr_curve_np(\n",
    "    preds_bbox, gts_bbox, ious_np, preds_conf, fp_np, fg_np, area_range, iou_threshold\n",
    ")"
   ]
  },
  {
   "cell_type": "code",
   "execution_count": 6,
   "metadata": {},
   "outputs": [
    {
     "name": "stdout",
     "output_type": "stream",
     "text": [
      "643 ms ± 70.8 ms per loop (mean ± std. dev. of 7 runs, 1 loop each)\n"
     ]
    }
   ],
   "source": [
    "%%timeit\n",
    "calculate_pr_curve_np(\n",
    "    preds_bbox, gts_bbox, ious_np, preds_conf, fp_np, fg_np, area_range, iou_threshold\n",
    ")"
   ]
  }
 ],
 "metadata": {
  "kernelspec": {
   "display_name": "Python 3",
   "language": "python",
   "name": "python3"
  },
  "language_info": {
   "codemirror_mode": {
    "name": "ipython",
    "version": 3
   },
   "file_extension": ".py",
   "mimetype": "text/x-python",
   "name": "python",
   "nbconvert_exporter": "python",
   "pygments_lexer": "ipython3",
   "version": "3.10.11"
  },
  "orig_nbformat": 4
 },
 "nbformat": 4,
 "nbformat_minor": 2
}
