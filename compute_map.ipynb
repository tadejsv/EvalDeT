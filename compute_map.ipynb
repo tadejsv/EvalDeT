{
 "cells": [
  {
   "cell_type": "code",
   "execution_count": 2,
   "metadata": {},
   "outputs": [],
   "source": [
    "import numpy as np\n",
    "from evaldet.det.coco import calculate_pr_curve"
   ]
  },
  {
   "cell_type": "code",
   "execution_count": 7,
   "metadata": {},
   "outputs": [],
   "source": [
    "preds_bbox = np.array([\n",
    "    [1, 1, 1, 1],\n",
    "    [0, 0, 1, 1],\n",
    "    [1, 1, 1, 1],\n",
    "    [0, 0, 1, 1],\n",
    "], dtype=np.float32)\n",
    "gts_bbox = np.array([\n",
    "    [1, 1, 1, 1],\n",
    "    [0, 0, 1, 1],\n",
    "    [1, 1, 1, 1],\n",
    "    [0, 0, 1, 1],\n",
    "], dtype=np.float32)\n",
    "# gts_bbox=np.zeros((0,4), dtype=np.float32)\n",
    "preds_conf = np.array([0.9,0.8,0.6,0.7], dtype=np.float32)\n",
    "\n",
    "ious = {\n",
    "    0: np.array([[1.0,0.0],[0.0,1.0]], dtype=np.float32),\n",
    "    1: np.array([[0.0],[1.0]], dtype=np.float32),\n",
    "}\n",
    "# ious = {0:np.zeros((2,0), dtype=np.float32),1:np.zeros((2,0), dtype=np.float32)}\n",
    "fp = {0: (0,2), 1: (2,4)}\n",
    "fg = {0: (0,2), 1: (2,3)}\n",
    "# fg={}\n",
    "area_range = (0.5, 100)\n",
    "iou_threshold = 0.5"
   ]
  },
  {
   "cell_type": "code",
   "execution_count": 8,
   "metadata": {},
   "outputs": [
    {
     "name": "stdout",
     "output_type": "stream",
     "text": [
      "[ 0  1 -1  0] [False False False False] 3\n"
     ]
    },
    {
     "data": {
      "text/plain": [
       "array([[1.        , 1.        , 1.        , 0.75      ],\n",
       "       [0.33333334, 0.6666667 , 1.        , 1.        ]], dtype=float32)"
      ]
     },
     "execution_count": 8,
     "metadata": {},
     "output_type": "execute_result"
    }
   ],
   "source": [
    "calculate_pr_curve(\n",
    "    preds_bbox, gts_bbox, ious, preds_conf, fp, fg, area_range, iou_threshold\n",
    ")"
   ]
  },
  {
   "cell_type": "code",
   "execution_count": 3,
   "metadata": {},
   "outputs": [
    {
     "ename": "NameError",
     "evalue": "name 'np' is not defined",
     "output_type": "error",
     "traceback": [
      "\u001b[0;31m---------------------------------------------------------------------------\u001b[0m",
      "\u001b[0;31mNameError\u001b[0m                                 Traceback (most recent call last)",
      "Cell \u001b[0;32mIn[3], line 1\u001b[0m\n\u001b[0;32m----> 1\u001b[0m preds_bbox \u001b[39m=\u001b[39m np\u001b[39m.\u001b[39marray([\n\u001b[1;32m      2\u001b[0m     [\u001b[39m1\u001b[39m, \u001b[39m1\u001b[39m, \u001b[39m99\u001b[39m, \u001b[39m99\u001b[39m],\n\u001b[1;32m      3\u001b[0m     [\u001b[39m1000\u001b[39m, \u001b[39m1000\u001b[39m, \u001b[39m1\u001b[39m, \u001b[39m1\u001b[39m],\n\u001b[1;32m      4\u001b[0m     [\u001b[39m0\u001b[39m, \u001b[39m0\u001b[39m, \u001b[39m200\u001b[39m, \u001b[39m200\u001b[39m],\n\u001b[1;32m      5\u001b[0m     [\u001b[39m100\u001b[39m, \u001b[39m100\u001b[39m, \u001b[39m10\u001b[39m, \u001b[39m10\u001b[39m]\n\u001b[1;32m      6\u001b[0m ])\n\u001b[1;32m      7\u001b[0m gts_bbox \u001b[39m=\u001b[39m np\u001b[39m.\u001b[39marray([[\u001b[39m0\u001b[39m, \u001b[39m0\u001b[39m, \u001b[39m100\u001b[39m, \u001b[39m100\u001b[39m], [\u001b[39m100\u001b[39m, \u001b[39m100\u001b[39m, \u001b[39m10\u001b[39m, \u001b[39m10\u001b[39m]])\n\u001b[1;32m      8\u001b[0m preds_conf \u001b[39m=\u001b[39m np\u001b[39m.\u001b[39marray([\u001b[39m0.9\u001b[39m, \u001b[39m0.99\u001b[39m, \u001b[39m0.8\u001b[39m, \u001b[39m0.1\u001b[39m])\n",
      "\u001b[0;31mNameError\u001b[0m: name 'np' is not defined"
     ]
    }
   ],
   "source": [
    "preds_bbox = np.array([\n",
    "    [1, 1, 99, 99],\n",
    "    [1000, 1000, 1, 1],\n",
    "    [0, 0, 200, 200],\n",
    "    [100, 100, 10, 10]\n",
    "])\n",
    "gts_bbox = np.array([[0, 0, 100, 100], [100, 100, 10, 10]])\n",
    "preds_conf = np.array([0.9, 0.99, 0.8, 0.1])\n",
    "area_range = (101, 1000**2)\n",
    "iou_threshold = 0.3"
   ]
  },
  {
   "cell_type": "code",
   "execution_count": 38,
   "metadata": {},
   "outputs": [
    {
     "data": {
      "text/plain": [
       "(array([False,  True, False]), array([0.99, 0.9 , 0.8 ]), 1)"
      ]
     },
     "execution_count": 38,
     "metadata": {},
     "output_type": "execute_result"
    }
   ],
   "source": [
    "evaluate_image(preds_bbox, gts_bbox, preds_conf, area_range, iou_threshold)"
   ]
  },
  {
   "cell_type": "code",
   "execution_count": 40,
   "metadata": {},
   "outputs": [
    {
     "ename": "ValueError",
     "evalue": "attempt to get argmax of an empty sequence",
     "output_type": "error",
     "traceback": [
      "\u001b[0;31m---------------------------------------------------------------------------\u001b[0m",
      "\u001b[0;31mValueError\u001b[0m                                Traceback (most recent call last)",
      "Cell \u001b[0;32mIn[40], line 1\u001b[0m\n\u001b[0;32m----> 1\u001b[0m evaluate_image(np\u001b[39m.\u001b[39;49mzeros((\u001b[39m0\u001b[39;49m,\u001b[39m4\u001b[39;49m)), np\u001b[39m.\u001b[39;49mzeros((\u001b[39m0\u001b[39;49m,\u001b[39m4\u001b[39;49m)), np\u001b[39m.\u001b[39;49marray([]), area_range, iou_threshold)\n",
      "Cell \u001b[0;32mIn[30], line 58\u001b[0m, in \u001b[0;36mevaluate_image\u001b[0;34m(preds_bbox, gts_bbox, preds_conf, area_range, iou_threshold)\u001b[0m\n\u001b[1;32m     55\u001b[0m gts_bbox \u001b[39m=\u001b[39m gts_bbox[sort_gt]\n\u001b[1;32m     57\u001b[0m \u001b[39m# Get the index where to split gts into normal and ignore\u001b[39;00m\n\u001b[0;32m---> 58\u001b[0m start_ignore \u001b[39m=\u001b[39m np\u001b[39m.\u001b[39;49margmax(gts_ignore)\n\u001b[1;32m     59\u001b[0m \u001b[39mif\u001b[39;00m start_ignore \u001b[39m==\u001b[39m \u001b[39m0\u001b[39m \u001b[39mand\u001b[39;00m gts_ignore[\u001b[39m0\u001b[39m] \u001b[39m==\u001b[39m \u001b[39m0\u001b[39m:\n\u001b[1;32m     60\u001b[0m     start_ignore \u001b[39m=\u001b[39m \u001b[39mlen\u001b[39m(gts_area)  \u001b[39m# Nothing is ignored\u001b[39;00m\n",
      "File \u001b[0;32m<__array_function__ internals>:200\u001b[0m, in \u001b[0;36margmax\u001b[0;34m(*args, **kwargs)\u001b[0m\n",
      "File \u001b[0;32m~/micromamba/envs/EvalDeT/lib/python3.11/site-packages/numpy/core/fromnumeric.py:1242\u001b[0m, in \u001b[0;36margmax\u001b[0;34m(a, axis, out, keepdims)\u001b[0m\n\u001b[1;32m   1155\u001b[0m \u001b[39m\u001b[39m\u001b[39m\"\"\"\u001b[39;00m\n\u001b[1;32m   1156\u001b[0m \u001b[39mReturns the indices of the maximum values along an axis.\u001b[39;00m\n\u001b[1;32m   1157\u001b[0m \n\u001b[0;32m   (...)\u001b[0m\n\u001b[1;32m   1239\u001b[0m \u001b[39m(2, 1, 4)\u001b[39;00m\n\u001b[1;32m   1240\u001b[0m \u001b[39m\"\"\"\u001b[39;00m\n\u001b[1;32m   1241\u001b[0m kwds \u001b[39m=\u001b[39m {\u001b[39m'\u001b[39m\u001b[39mkeepdims\u001b[39m\u001b[39m'\u001b[39m: keepdims} \u001b[39mif\u001b[39;00m keepdims \u001b[39mis\u001b[39;00m \u001b[39mnot\u001b[39;00m np\u001b[39m.\u001b[39m_NoValue \u001b[39melse\u001b[39;00m {}\n\u001b[0;32m-> 1242\u001b[0m \u001b[39mreturn\u001b[39;00m _wrapfunc(a, \u001b[39m'\u001b[39;49m\u001b[39margmax\u001b[39;49m\u001b[39m'\u001b[39;49m, axis\u001b[39m=\u001b[39;49maxis, out\u001b[39m=\u001b[39;49mout, \u001b[39m*\u001b[39;49m\u001b[39m*\u001b[39;49mkwds)\n",
      "File \u001b[0;32m~/micromamba/envs/EvalDeT/lib/python3.11/site-packages/numpy/core/fromnumeric.py:57\u001b[0m, in \u001b[0;36m_wrapfunc\u001b[0;34m(obj, method, *args, **kwds)\u001b[0m\n\u001b[1;32m     54\u001b[0m     \u001b[39mreturn\u001b[39;00m _wrapit(obj, method, \u001b[39m*\u001b[39margs, \u001b[39m*\u001b[39m\u001b[39m*\u001b[39mkwds)\n\u001b[1;32m     56\u001b[0m \u001b[39mtry\u001b[39;00m:\n\u001b[0;32m---> 57\u001b[0m     \u001b[39mreturn\u001b[39;00m bound(\u001b[39m*\u001b[39;49margs, \u001b[39m*\u001b[39;49m\u001b[39m*\u001b[39;49mkwds)\n\u001b[1;32m     58\u001b[0m \u001b[39mexcept\u001b[39;00m \u001b[39mTypeError\u001b[39;00m:\n\u001b[1;32m     59\u001b[0m     \u001b[39m# A TypeError occurs if the object does have such a method in its\u001b[39;00m\n\u001b[1;32m     60\u001b[0m     \u001b[39m# class, but its signature is not identical to that of NumPy's. This\u001b[39;00m\n\u001b[0;32m   (...)\u001b[0m\n\u001b[1;32m     64\u001b[0m     \u001b[39m# Call _wrapit from within the except clause to ensure a potential\u001b[39;00m\n\u001b[1;32m     65\u001b[0m     \u001b[39m# exception has a traceback chain.\u001b[39;00m\n\u001b[1;32m     66\u001b[0m     \u001b[39mreturn\u001b[39;00m _wrapit(obj, method, \u001b[39m*\u001b[39margs, \u001b[39m*\u001b[39m\u001b[39m*\u001b[39mkwds)\n",
      "\u001b[0;31mValueError\u001b[0m: attempt to get argmax of an empty sequence"
     ]
    }
   ],
   "source": [
    "evaluate_image(np.zeros((0,4)), np.zeros((0,4)), np.array([]), area_range, iou_threshold)"
   ]
  },
  {
   "cell_type": "code",
   "execution_count": null,
   "metadata": {},
   "outputs": [],
   "source": [
    "# For the per class thingy:\n",
    "# * do it per class, parallelize within the class on images\n",
    "# * first, filter detections to contain only objects of the class\n",
    "# * second, go over images in class, appending results\n",
    "# * for the results, compute precision-recall curve (no need to interpolate anything)\n",
    "# * return the two arrays (precision and recall)\n",
    "# * in a higher-level function compute mAP per class, and also average over classes"
   ]
  },
  {
   "cell_type": "code",
   "execution_count": 5,
   "metadata": {},
   "outputs": [],
   "source": [
    "from evaldet.det.coco import evaluate_image, iou_dist\n",
    "# from evaldet.dist import iou_dist_manual\n",
    "import numpy as np\n",
    "N=100\n",
    "pbb = np.random.rand(N, 4).astype(np.float32)\n",
    "gtbb = np.random.rand(N-1, 4).astype(np.float32)\n",
    "pc = np.random.rand(N).astype(np.float32)\n",
    "a = (0, float(\"inf\"))\n",
    "iout = 0.1\n",
    "\n",
    "ious = iou_dist(pbb, gtbb)"
   ]
  },
  {
   "cell_type": "code",
   "execution_count": 6,
   "metadata": {},
   "outputs": [],
   "source": [
    "_ = evaluate_image(pbb,gtbb,ious,pc,a,iout)"
   ]
  },
  {
   "cell_type": "code",
   "execution_count": 7,
   "metadata": {},
   "outputs": [
    {
     "name": "stdout",
     "output_type": "stream",
     "text": [
      "30.9 µs ± 1.37 µs per loop (mean ± std. dev. of 7 runs, 10,000 loops each)\n"
     ]
    }
   ],
   "source": [
    "%%timeit\n",
    "evaluate_image(pbb,gtbb,ious,pc,a,iout)"
   ]
  },
  {
   "cell_type": "code",
   "execution_count": 8,
   "metadata": {},
   "outputs": [
    {
     "name": "stdout",
     "output_type": "stream",
     "text": [
      "508 µs ± 11.2 µs per loop (mean ± std. dev. of 7 runs, 1,000 loops each)\n"
     ]
    }
   ],
   "source": [
    "%%timeit\n",
    "iou_dist(pbb, gtbb)"
   ]
  },
  {
   "cell_type": "code",
   "execution_count": 5,
   "metadata": {},
   "outputs": [
    {
     "name": "stdout",
     "output_type": "stream",
     "text": [
      "6.13 ms ± 587 µs per loop (mean ± std. dev. of 7 runs, 100 loops each)\n"
     ]
    }
   ],
   "source": [
    "%%timeit\n",
    "iou_dist_manual(pbb, gtbb)"
   ]
  },
  {
   "cell_type": "code",
   "execution_count": 4,
   "metadata": {},
   "outputs": [],
   "source": [
    "import numba\n",
    "\n",
    "@numba.njit(parallel=False)\n",
    "def x(y1,y2):\n",
    "    a = np.zeros((y1.shape[0], y2.shape[0]))\n",
    "    for i in numba.prange(50):\n",
    "        a += iou_dist(y1,y2+i)\n",
    "\n",
    "    return a\n",
    "\n"
   ]
  },
  {
   "cell_type": "code",
   "execution_count": 5,
   "metadata": {},
   "outputs": [
    {
     "data": {
      "text/plain": [
       "array([[50.        , 50.        , 50.        , ..., 50.        ,\n",
       "        50.        , 50.        ],\n",
       "       [50.        , 50.        , 50.        , ..., 49.728993  ,\n",
       "        49.5525378 , 50.        ],\n",
       "       [49.97867173, 49.84659052, 50.        , ..., 49.63559186,\n",
       "        49.77126575, 49.99522007],\n",
       "       ...,\n",
       "       [49.77200723, 50.        , 49.98689926, ..., 49.95099527,\n",
       "        50.        , 49.86190456],\n",
       "       [49.99984944, 49.94537628, 50.        , ..., 49.73895621,\n",
       "        49.78806257, 50.        ],\n",
       "       [49.63546646, 50.        , 50.        , ..., 49.9896943 ,\n",
       "        50.        , 49.67482722]])"
      ]
     },
     "execution_count": 5,
     "metadata": {},
     "output_type": "execute_result"
    }
   ],
   "source": [
    "x(pbb, gtbb)"
   ]
  },
  {
   "cell_type": "code",
   "execution_count": 7,
   "metadata": {},
   "outputs": [
    {
     "name": "stdout",
     "output_type": "stream",
     "text": [
      "55.6 ms ± 3.29 ms per loop (mean ± std. dev. of 7 runs, 10 loops each)\n"
     ]
    }
   ],
   "source": [
    "%%timeit\n",
    "x(pbb, gtbb)"
   ]
  },
  {
   "cell_type": "code",
   "execution_count": 10,
   "metadata": {},
   "outputs": [
    {
     "name": "stderr",
     "output_type": "stream",
     "text": [
      "/home/tadej/micromamba/envs/EvalDeT/lib/python3.10/site-packages/numba/typed/typeddict.py:33: NumbaTypeSafetyWarning: \u001b[1m\u001b[1m\u001b[1munsafe cast from int64 to int32. Precision may be lost.\u001b[0m\u001b[0m\u001b[0m\n",
      "  d[key] = value\n"
     ]
    },
    {
     "data": {
      "text/plain": [
       "DictType[int32,array(float32, 2d, C)]<iv=None>({1: [[1. 1.]]})"
      ]
     },
     "execution_count": 10,
     "metadata": {},
     "output_type": "execute_result"
    }
   ],
   "source": [
    "import numba\n",
    "import numpy as np\n",
    "# x = {1: np.array([[1,1]], dtype=np.float32)}\n",
    "\n",
    "d = numba.typed.Dict.empty(\n",
    "    key_type=numba.types.int32,\n",
    "    value_type=numba.types.float32[:,::1],\n",
    ")\n",
    "d[1] = np.array([[1,1]], dtype=np.float32)\n",
    "# numba.typed.List(x)\n",
    "\n",
    "@numba.njit\n",
    "def xf(y):\n",
    "    return y\n",
    "\n",
    "xf(d)"
   ]
  },
  {
   "cell_type": "code",
   "execution_count": 11,
   "metadata": {},
   "outputs": [
    {
     "data": {
      "text/plain": [
       "DictType[int32,array(float32, 2d, C)]<iv=None>({1: [[1. 1.]]})"
      ]
     },
     "execution_count": 11,
     "metadata": {},
     "output_type": "execute_result"
    }
   ],
   "source": [
    "xf(d)"
   ]
  },
  {
   "cell_type": "code",
   "execution_count": 12,
   "metadata": {},
   "outputs": [
    {
     "data": {
      "text/plain": [
       "DictType[int32,array(float32, 2d, C)]<iv=None>"
      ]
     },
     "execution_count": 12,
     "metadata": {},
     "output_type": "execute_result"
    }
   ],
   "source": [
    "numba.typeof(d)"
   ]
  },
  {
   "cell_type": "code",
   "execution_count": 9,
   "metadata": {},
   "outputs": [
    {
     "data": {
      "text/plain": [
       "array([[4, 3],\n",
       "       [2, 1]])"
      ]
     },
     "execution_count": 9,
     "metadata": {},
     "output_type": "execute_result"
    }
   ],
   "source": [
    "import numpy as np\n",
    "\n",
    "a = np.array([[1,2],[3,4]])\n",
    "\n",
    "a[[1,0],:][:,[1,0]]"
   ]
  },
  {
   "cell_type": "code",
   "execution_count": 10,
   "metadata": {},
   "outputs": [
    {
     "data": {
      "text/plain": [
       "array([[1, 3],\n",
       "       [2, 4]])"
      ]
     },
     "execution_count": 10,
     "metadata": {},
     "output_type": "execute_result"
    }
   ],
   "source": [
    "a.T"
   ]
  },
  {
   "cell_type": "code",
   "execution_count": null,
   "metadata": {},
   "outputs": [],
   "source": []
  }
 ],
 "metadata": {
  "kernelspec": {
   "display_name": "Python 3",
   "language": "python",
   "name": "python3"
  },
  "language_info": {
   "codemirror_mode": {
    "name": "ipython",
    "version": 3
   },
   "file_extension": ".py",
   "mimetype": "text/x-python",
   "name": "python",
   "nbconvert_exporter": "python",
   "pygments_lexer": "ipython3",
   "version": "3.10.11"
  },
  "orig_nbformat": 4
 },
 "nbformat": 4,
 "nbformat_minor": 2
}
